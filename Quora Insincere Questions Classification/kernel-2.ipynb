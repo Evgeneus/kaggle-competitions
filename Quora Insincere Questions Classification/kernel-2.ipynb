{
 "cells": [
  {
   "cell_type": "markdown",
   "metadata": {},
   "source": [
    "# Quara"
   ]
  },
  {
   "cell_type": "code",
   "execution_count": 13,
   "metadata": {},
   "outputs": [],
   "source": [
    "import numpy as np # linear algebra\n",
    "import pandas as pd # data processing, CSV file I/O (e.g. pd.read_csv)\n",
    "from tqdm import tqdm"
   ]
  },
  {
   "cell_type": "markdown",
   "metadata": {},
   "source": [
    "## Load and Preprocess Data"
   ]
  },
  {
   "cell_type": "code",
   "execution_count": 14,
   "metadata": {},
   "outputs": [],
   "source": [
    "class DataLoadTransformer:\n",
    "    \n",
    "    def __init__(self, seed=123):\n",
    "        self.seed = seed\n",
    "    \n",
    "    def load(self, file_names):\n",
    "        self.train_df = pd.read_csv(file_names['train'])\n",
    "        self.test_df = pd.read_csv(file_names['test'])\n",
    "        print(\"Train shape : \", self.train_df.shape)\n",
    "        print(\"Test shape : \", self.test_df.shape)\n",
    "        \n",
    "    def transform(self, max_features=90000, max_len=100):\n",
    "        # load libraries\n",
    "        from keras.preprocessing.text import Tokenizer\n",
    "        from keras.preprocessing.sequence import pad_sequences\n",
    "        \n",
    "        ## fill up the missing values\n",
    "        ## need to load numpy\n",
    "        self.train_X = self.train_df['question_text'].fillna('_##_').values\n",
    "        self.test_X = self.test_df['question_text'].fillna('_##_').values\n",
    "        \n",
    "        ## Tokenize the sentences\n",
    "        tokenizer = Tokenizer(num_words=max_features)\n",
    "        tokenizer.fit_on_texts(list(self.train_X))\n",
    "        self.word_index = tokenizer.word_index\n",
    "        self.train_X = tokenizer.texts_to_sequences(self.train_X)\n",
    "        self.test_X = tokenizer.texts_to_sequences(self.test_X)\n",
    "        \n",
    "        ## Pad the sentences \n",
    "        self.train_X = pad_sequences(self.train_X, maxlen=max_len)\n",
    "        self.test_X = pad_sequences(self.test_X, maxlen=max_len)\n",
    "        \n",
    "        ## Get the target values for training\n",
    "        self.train_y = self.train_df['target'].values\n",
    "        \n",
    "        ## Shufflee the data\n",
    "        np.random.seed(self.seed)\n",
    "        train_idx = np.random.permutation(len(self.train_X))\n",
    "        self.train_X, self.train_y = self.train_X[train_idx], self.train_y[train_idx]\n",
    "        \n",
    "        print(\"Data transformed.\")\n",
    "        return self.train_X, self.test_X, self.train_y, tokenizer.sequences_to_texts"
   ]
  },
  {
   "cell_type": "markdown",
   "metadata": {},
   "source": [
    "## Load embeddings & transform text to vectors"
   ]
  },
  {
   "cell_type": "code",
   "execution_count": 46,
   "metadata": {},
   "outputs": [],
   "source": [
    "class Embeddings:\n",
    "    \n",
    "    ## load embeddings\n",
    "    def load(self, embedding_file_name):\n",
    "        self.embeddings_index = {}\n",
    "        f = open(embedding_file_name)\n",
    "        for line in tqdm(f):\n",
    "            values = line.split(' ');\n",
    "            word = values[0]\n",
    "            coef = np.asarray(values[1:], dtype='float32')\n",
    "            self.embeddings_index[word] = coef\n",
    "        self.embed_len = len(coef) # length of embeddings\n",
    "        f.close()\n",
    "        \n",
    "    def text_to_vec(self, text, max_text_len=30):\n",
    "        empyt_emb = np.zeros(self.embed_len)\n",
    "        embeds = [self.embeddings_index.get(word, empyt_emb) for word in text]\n",
    "        embeds+= [empyt_emb] * (max_text_len - len(embeds))\n",
    "        \n",
    "        return np.array(embeds)\n",
    "    \n",
    "    def sequences_to_vec(self, sequences, sequences_to_texts, max_text_len=30):\n",
    "        texts = sequences_to_texts(sequences)\n",
    "        vectors = [self.text_to_vec(text[:max_text_len], max_text_len) for text in tqdm(texts)]\n",
    "        \n",
    "        return np.array(vectors)"
   ]
  },
  {
   "cell_type": "markdown",
   "metadata": {},
   "source": [
    "# The Main Part"
   ]
  },
  {
   "cell_type": "markdown",
   "metadata": {},
   "source": [
    "#### Load and transfor the data"
   ]
  },
  {
   "cell_type": "code",
   "execution_count": 47,
   "metadata": {},
   "outputs": [
    {
     "name": "stdout",
     "output_type": "stream",
     "text": [
      "Train shape :  (1306122, 3)\n",
      "Test shape :  (56370, 2)\n",
      "[677319 802133 357211 ...  28030 277869 773630]\n",
      "Data transformed.\n"
     ]
    }
   ],
   "source": [
    "file_names = {'train': 'data/train.csv', 'test': 'data/test.csv'}\n",
    "max_features = 950000 # how many unique words to use (i.e num rows in embedding vector)\n",
    "maxlen = 70 # max number of words in a question to use\n",
    "\n",
    "dlt = DataLoadTransformer()\n",
    "dlt.load(file_names)\n",
    "train_X, test_X, train_y, sequences_to_texts = dlt.transform(max_features=max_features, max_len=maxlen)"
   ]
  },
  {
   "cell_type": "code",
   "execution_count": 48,
   "metadata": {},
   "outputs": [],
   "source": [
    "from sklearn.model_selection import train_test_split\n",
    "\n",
    "val_size = 0.1\n",
    "train_X, val_X, train_y, val_y = train_test_split(train_X, train_y, test_size=val_size, stratify=train_y)"
   ]
  },
  {
   "cell_type": "markdown",
   "metadata": {},
   "source": [
    "#### Load embeddings and transform to vectors the inputs"
   ]
  },
  {
   "cell_type": "code",
   "execution_count": 49,
   "metadata": {},
   "outputs": [
    {
     "name": "stderr",
     "output_type": "stream",
     "text": [
      "2196017it [02:45, 13301.19it/s]\n"
     ]
    }
   ],
   "source": [
    "embedding_file_name = 'data/embeddings/glove.840B.300d/glove.840B.300d.txt'\n",
    "emb = Embeddings()\n",
    "emb.load(embedding_file_name)"
   ]
  },
  {
   "cell_type": "code",
   "execution_count": 50,
   "metadata": {},
   "outputs": [
    {
     "name": "stderr",
     "output_type": "stream",
     "text": [
      "100%|██████████| 130613/130613 [00:16<00:00, 7925.82it/s] \n"
     ]
    }
   ],
   "source": [
    "max_text_len = 30\n",
    "vec_val_X = emb.sequences_to_vec(val_X, sequences_to_texts, max_text_len)"
   ]
  },
  {
   "cell_type": "markdown",
   "metadata": {},
   "source": [
    "#### Batch generator"
   ]
  },
  {
   "cell_type": "code",
   "execution_count": null,
   "metadata": {},
   "outputs": [],
   "source": [
    "def batch_gen(X, y, batch_size, seed=123):\n",
    "    import math\n",
    "    n_batches = math.ceil(len(X) / batch_size)\n",
    "    while True:\n",
    "        ## Shufflee the data\n",
    "        np.random.seed(seed)\n",
    "        permuted_idx = np.random.permutation(len(X))\n",
    "        X, y = X[permuted_idx], y[permuted_idx]\n",
    "        \n",
    "    "
   ]
  }
 ],
 "metadata": {
  "kernelspec": {
   "display_name": "Python 3",
   "language": "python",
   "name": "python3"
  },
  "language_info": {
   "codemirror_mode": {
    "name": "ipython",
    "version": 3
   },
   "file_extension": ".py",
   "mimetype": "text/x-python",
   "name": "python",
   "nbconvert_exporter": "python",
   "pygments_lexer": "ipython3",
   "version": "3.6.4"
  }
 },
 "nbformat": 4,
 "nbformat_minor": 2
}
