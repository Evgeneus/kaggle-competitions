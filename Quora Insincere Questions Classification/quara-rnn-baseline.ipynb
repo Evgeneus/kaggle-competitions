{
 "cells": [
  {
   "cell_type": "markdown",
   "metadata": {
    "_uuid": "724ee57e793dee8fea96cf97c0639c8971b5c970"
   },
   "source": [
    "# Quara RNN Baseline"
   ]
  },
  {
   "cell_type": "markdown",
   "metadata": {
    "_uuid": "7bf28db87a5eccff81cebbeacddfab5ebebbed20"
   },
   "source": [
    "This kernel is based on:\n",
    "1. Kernel [\"LSTM is all you need! well, maybe embeddings also\"](https://www.kaggle.com/mihaskalic/lstm-is-all-you-need-well-maybe-embeddings-also)\n",
    "2. [Practical Text Classification With Python and Keras](https://mlwhiz.com/blog/2018/12/17/text_classification/)\n",
    "\n",
    "The kernel is organised as follows:\n",
    "1. Utils\n",
    "2. Setup and Data Preprocessing\n",
    "3. Neural Network\n",
    "4. Prediction and Submission"
   ]
  },
  {
   "cell_type": "code",
   "execution_count": 8,
   "metadata": {
    "_uuid": "9cf1303d5a3ca28ce61013ccd216cce901b21c81"
   },
   "outputs": [
    {
     "name": "stdout",
     "output_type": "stream",
     "text": [
      "['embeddings', '.DS_Store', 'test.csv', 'train.csv']\n"
     ]
    }
   ],
   "source": [
    "import os\n",
    "print(os.listdir(\"data/\"))"
   ]
  },
  {
   "cell_type": "code",
   "execution_count": 9,
   "metadata": {
    "_uuid": "6c46484c59ae029dafa312255a03234c1d0ae0c8"
   },
   "outputs": [],
   "source": [
    "import numpy as np # linear algebra\n",
    "import pandas as pd # data processing, CSV file I/O (e.g. pd.read_csv)\n",
    "from tqdm import tqdm\n",
    "\n",
    "seed = 123"
   ]
  },
  {
   "cell_type": "markdown",
   "metadata": {
    "_uuid": "8f3c444e6196f2aab92abf592827aee613a72723"
   },
   "source": [
    "## 1. Utils"
   ]
  },
  {
   "cell_type": "markdown",
   "metadata": {
    "_uuid": "2679808a0ffe1c9c3674ac2b2f2f196e7753a656"
   },
   "source": [
    "#### 1.1 Dataset Loader"
   ]
  },
  {
   "cell_type": "code",
   "execution_count": 10,
   "metadata": {
    "_uuid": "657fafe3634fcea8b1141e36f3647271eed8dcb0"
   },
   "outputs": [],
   "source": [
    "class DataLoader:\n",
    "    \n",
    "    def load(self, file_names):\n",
    "        self.train_df = pd.read_csv(file_names['train'])\n",
    "        self.test_df = pd.read_csv(file_names['test'])\n",
    "        ## fill up the missing values\n",
    "        self.train_df['question_text'].fillna('_na_', inplace=True)\n",
    "        self.test_df['question_text'].fillna('_na_', inplace=True)\n",
    "        print('Train shape : ', self.train_df.shape)\n",
    "        print('Test shape : ', self.test_df.shape)"
   ]
  },
  {
   "cell_type": "markdown",
   "metadata": {
    "_uuid": "b2dd66786ffed3fcaa5486e330827284f4e1c0a6"
   },
   "source": [
    "#### 1.2 Load embeddings & transform text to vectors"
   ]
  },
  {
   "cell_type": "code",
   "execution_count": 11,
   "metadata": {
    "_uuid": "4e160709276adfa9d34e93f3d55363847c8c6494"
   },
   "outputs": [],
   "source": [
    "class Embeddings:\n",
    "    \n",
    "    def __init__(self):\n",
    "        self.embed_len = 300\n",
    "        self.punctuation = set('!#$%&()*+,.:;<>?@[\\\\]')\n",
    "    \n",
    "    ## load embeddings\n",
    "    def load(self, embedding_file_name):\n",
    "        self.embeddings_index = {}\n",
    "        f = open(embedding_file_name)\n",
    "        for line in tqdm(f):\n",
    "            values = line.split(' ');\n",
    "            word = values[0]\n",
    "            coef = np.asarray(values[1:], dtype='float32')\n",
    "            self.embeddings_index[word] = coef\n",
    "        self.embed_len = len(coef) # length of embeddings\n",
    "        f.close()\n",
    "        \n",
    "    def text_to_vec(self, text, max_text_len=30):\n",
    "        if text[-1] in self.punctuation:\n",
    "            text = text[:-1].split() + [text[-1]]\n",
    "        else:\n",
    "            text = text.split()\n",
    "        text = text[:max_text_len]\n",
    "        empyt_emb = np.zeros(self.embed_len)\n",
    "        embeds = [self.embeddings_index.get(word, empyt_emb) for word in text]\n",
    "        embeds+= [empyt_emb] * (max_text_len - len(embeds))\n",
    "        \n",
    "        return np.array(embeds)\n",
    "    \n",
    "    def sequences_to_vec(self, text_sequences, max_text_len=30):\n",
    "        vectors = [self.text_to_vec(text, max_text_len) for text in text_sequences]\n",
    "        \n",
    "        return np.array(vectors)"
   ]
  },
  {
   "cell_type": "markdown",
   "metadata": {
    "_uuid": "cf336672b6236962642028683da574e96b406df3"
   },
   "source": [
    "#### 1.3 Batch Generators"
   ]
  },
  {
   "cell_type": "code",
   "execution_count": 12,
   "metadata": {
    "_uuid": "1b5431201787b6f4a20472b8c24f9aab5081fe43"
   },
   "outputs": [],
   "source": [
    "# generator for training NNet (used via fit_generator method in keras)\n",
    "def batch_gen(train_df, batch_size, emb, max_text_len=30):\n",
    "    import math\n",
    "    n_batches = math.ceil(len(train_df) / batch_size)\n",
    "    while True: \n",
    "        train_df = train_df.sample(frac=1.)  # Shuffle the data.\n",
    "        for i in range(n_batches):\n",
    "            batch_df = train_df.iloc[i*batch_size:(i+1)*batch_size]\n",
    "            X_ = emb.sequences_to_vec( batch_df[\"question_text\"], max_text_len)\n",
    "            y_ = batch_df[\"target\"].values\n",
    "            yield X_, y_\n",
    "            \n",
    "# generater to do predication on test data\n",
    "def batch_gen_test(test_df, emb, batch_size_test=256, max_text_len=30):\n",
    "    import math\n",
    "    n_batches = math.ceil(len(test_df) / batch_size)\n",
    "    for i in range(n_batches):\n",
    "        batch_df = test_df.iloc[i*batch_size:(i+1)*batch_size]\n",
    "        X_ = emb.sequences_to_vec( batch_df[\"question_text\"], max_text_len)\n",
    "        yield X_"
   ]
  },
  {
   "cell_type": "markdown",
   "metadata": {
    "_uuid": "6368ba8fd9f99e075b6b7357e415276dcfcbad32"
   },
   "source": [
    "#### 1.4 Visualisation script (Learning curves)"
   ]
  },
  {
   "cell_type": "code",
   "execution_count": 13,
   "metadata": {
    "_uuid": "0bcf26cea9fb5aafed66a252090e378bf58f38ea"
   },
   "outputs": [],
   "source": [
    "import matplotlib.pyplot as plt\n",
    "plt.style.use('ggplot')\n",
    "\n",
    "def plot_history(history):\n",
    "    acc = history.history['acc']\n",
    "    val_acc = history.history['val_acc']\n",
    "    loss = history.history['loss']\n",
    "    val_loss = history.history['val_loss']\n",
    "    x = range(1, len(acc) + 1)\n",
    "\n",
    "    plt.figure(figsize=(12, 5))\n",
    "    plt.subplot(1, 2, 1)\n",
    "    plt.plot(x, acc, 'b', label='Training acc')\n",
    "    plt.plot(x, val_acc, 'r', label='Validation acc')\n",
    "    plt.xlabel('Epoch')\n",
    "    plt.ylabel('Accuracy')\n",
    "    plt.title('Training and validation accuracy')\n",
    "    plt.legend()\n",
    "    \n",
    "    plt.subplot(1, 2, 2)\n",
    "    plt.plot(x, loss, 'b', label='Training loss')\n",
    "    plt.plot(x, val_loss, 'r', label='Validation loss')\n",
    "    plt.xlabel('Epoch')\n",
    "    plt.ylabel('Loss')\n",
    "    plt.title('Training and validation loss')\n",
    "    plt.legend()"
   ]
  },
  {
   "cell_type": "markdown",
   "metadata": {
    "_uuid": "c5419fc4114ef0c0483aa78d030d9ffcbab9e533"
   },
   "source": [
    "## 2. Setup and Data Preprocessing"
   ]
  },
  {
   "cell_type": "markdown",
   "metadata": {
    "_uuid": "88126d667637e9959ce664b72ed5a7c5321c9a2b"
   },
   "source": [
    "#### 2.1 Load data"
   ]
  },
  {
   "cell_type": "code",
   "execution_count": 14,
   "metadata": {
    "_uuid": "3d4be8a15b1d2bb2af0c61e2e15e9ad91a68fbc6"
   },
   "outputs": [
    {
     "name": "stdout",
     "output_type": "stream",
     "text": [
      "Train shape :  (1306122, 3)\n",
      "Test shape :  (56370, 2)\n"
     ]
    }
   ],
   "source": [
    "file_names = {'train': 'data/train.csv', 'test': 'data/test.csv'}\n",
    "\n",
    "dl = DataLoader()\n",
    "dl.load(file_names)"
   ]
  },
  {
   "cell_type": "markdown",
   "metadata": {
    "_uuid": "58e7808af4ea7d6adb9c482e4f0e2fe6e1c6826a"
   },
   "source": [
    "#### 2.2 Distribution of the number of words in questions"
   ]
  },
  {
   "cell_type": "code",
   "execution_count": 15,
   "metadata": {
    "_uuid": "c50fd16d2ea13dc41c118af00c65f9247f81e112"
   },
   "outputs": [
    {
     "data": {
      "image/png": "[encoded data removed]",
      "text/plain": [
       "<matplotlib.figure.Figure at 0x11b01a128>"
      ]
     },
     "metadata": {},
     "output_type": "display_data"
    }
   ],
   "source": [
    "num_words_in_questions = [len(question.split()) for question in dl.train_df['question_text']]\n",
    "plt.hist(num_words_in_questions,bins = np.arange(0,103,3))\n",
    "plt.show()\n",
    "\n",
    "max_text_len = 40 # according to the histogram below"
   ]
  },
  {
   "cell_type": "markdown",
   "metadata": {
    "_uuid": "8d921633c252f51901e17b9db49945d8ff7c78af"
   },
   "source": [
    "#### 2.3  Load embeddings"
   ]
  },
  {
   "cell_type": "code",
   "execution_count": 16,
   "metadata": {
    "_uuid": "bec131109db240a61d197d8dc570726d787103ca"
   },
   "outputs": [
    {
     "name": "stderr",
     "output_type": "stream",
     "text": [
      "2196017it [02:37, 13913.36it/s]"
     ]
    },
    {
     "name": "stdout",
     "output_type": "stream",
     "text": [
      "Embedding loaded\n"
     ]
    },
    {
     "name": "stderr",
     "output_type": "stream",
     "text": [
      "\n"
     ]
    }
   ],
   "source": [
    "embedding_file_name = 'data/embeddings/glove.840B.300d/glove.840B.300d.txt'\n",
    "emb = Embeddings()\n",
    "emb.load(embedding_file_name)\n",
    "print('Embedding loaded')"
   ]
  },
  {
   "cell_type": "markdown",
   "metadata": {
    "_uuid": "e061f026d5cdad97bdff3b2e233de8a36f0c9966"
   },
   "source": [
    "#### 2.4 Prepare train/validation sets"
   ]
  },
  {
   "cell_type": "code",
   "execution_count": 17,
   "metadata": {
    "_uuid": "6a59200b17ba9e495adb4958be0e5276d289305e"
   },
   "outputs": [],
   "source": [
    "from sklearn.model_selection import train_test_split\n",
    "\n",
    "val_size = 0.03\n",
    "train_df, val_df, _, _ = train_test_split(dl.train_df, dl.train_df['target'], \n",
    "                                          test_size=val_size, \n",
    "                                          stratify=dl.train_df['target'],\n",
    "                                          shuffle=True, random_state=seed)\n",
    "val_X = emb.sequences_to_vec(val_df[\"question_text\"], max_text_len)\n",
    "val_y = val_df['target'].values"
   ]
  },
  {
   "cell_type": "markdown",
   "metadata": {
    "_uuid": "dcabf9993a110fb6396ed8562bc26a4220b05fd2"
   },
   "source": [
    "## 3. Neural Network"
   ]
  },
  {
   "cell_type": "code",
   "execution_count": 18,
   "metadata": {
    "_uuid": "e3092d8117bc873c0062ed39a28057c2d456ccb1"
   },
   "outputs": [
    {
     "name": "stderr",
     "output_type": "stream",
     "text": [
      "/anaconda3/lib/python3.6/site-packages/h5py/__init__.py:36: FutureWarning: Conversion of the second argument of issubdtype from `float` to `np.floating` is deprecated. In future, it will be treated as `np.float64 == np.dtype(float).type`.\n",
      "  from ._conv import register_converters as _register_converters\n",
      "Using TensorFlow backend.\n"
     ]
    }
   ],
   "source": [
    "from keras.models import Sequential\n",
    "from keras.layers import LSTM, Dense, Bidirectional"
   ]
  },
  {
   "cell_type": "markdown",
   "metadata": {
    "_uuid": "bd4228ed4bd787c988de99d296e12631ecd92434"
   },
   "source": [
    "#### 3.1 Define NNet"
   ]
  },
  {
   "cell_type": "code",
   "execution_count": 19,
   "metadata": {
    "_uuid": "af4e52967389faf3c01fd3da788bce1419a7feca"
   },
   "outputs": [],
   "source": [
    "model = Sequential()\n",
    "model.add(Bidirectional(LSTM(64, return_sequences=True),\n",
    "                        input_shape=(max_text_len, 300)))\n",
    "model.add(Bidirectional(LSTM(64)))\n",
    "model.add(Dense(1, activation=\"sigmoid\"))\n",
    "model.compile(loss='binary_crossentropy', optimizer='adam', metrics=['accuracy'])"
   ]
  },
  {
   "cell_type": "markdown",
   "metadata": {
    "_uuid": "74cec3307a492a32cbb083bf5ef4000550522ebb"
   },
   "source": [
    "#### 3.2 Train NNet"
   ]
  },
  {
   "cell_type": "code",
   "execution_count": 20,
   "metadata": {
    "_uuid": "18081e23c74d8ca8ecae27d9e24fd146b28a5f70"
   },
   "outputs": [
    {
     "name": "stdout",
     "output_type": "stream",
     "text": [
      "Epoch 1/20\n",
      "1000/1000 [==============================] - 186s 186ms/step - loss: 0.1347 - acc: 0.9494 - val_loss: 0.1187 - val_acc: 0.9531\n",
      "Epoch 2/20\n",
      "1000/1000 [==============================] - 176s 176ms/step - loss: 0.1190 - acc: 0.9533 - val_loss: 0.1141 - val_acc: 0.9543\n",
      "Epoch 3/20\n",
      "1000/1000 [==============================] - 176s 176ms/step - loss: 0.1142 - acc: 0.9554 - val_loss: 0.1120 - val_acc: 0.9553\n",
      "Epoch 4/20\n",
      "1000/1000 [==============================] - 179s 179ms/step - loss: 0.1136 - acc: 0.9556 - val_loss: 0.1132 - val_acc: 0.9547\n",
      "Epoch 5/20\n",
      "1000/1000 [==============================] - 175s 175ms/step - loss: 0.1102 - acc: 0.9566 - val_loss: 0.1076 - val_acc: 0.9574\n",
      "Epoch 6/20\n",
      "1000/1000 [==============================] - 174s 174ms/step - loss: 0.1103 - acc: 0.9561 - val_loss: 0.1083 - val_acc: 0.9563\n",
      "Epoch 7/20\n",
      "1000/1000 [==============================] - 174s 174ms/step - loss: 0.1064 - acc: 0.9575 - val_loss: 0.1069 - val_acc: 0.9577\n",
      "Epoch 8/20\n",
      "1000/1000 [==============================] - 172s 172ms/step - loss: 0.1063 - acc: 0.9580 - val_loss: 0.1078 - val_acc: 0.9575\n",
      "Epoch 9/20\n",
      "1000/1000 [==============================] - 172s 172ms/step - loss: 0.1050 - acc: 0.9586 - val_loss: 0.1048 - val_acc: 0.9575\n",
      "Epoch 10/20\n",
      "1000/1000 [==============================] - 176s 176ms/step - loss: 0.1053 - acc: 0.9578 - val_loss: 0.1045 - val_acc: 0.9577\n",
      "Epoch 11/20\n",
      "1000/1000 [==============================] - 172s 172ms/step - loss: 0.1023 - acc: 0.9590 - val_loss: 0.1037 - val_acc: 0.9584\n",
      "Epoch 12/20\n",
      "1000/1000 [==============================] - 172s 172ms/step - loss: 0.1018 - acc: 0.9595 - val_loss: 0.1033 - val_acc: 0.9584\n",
      "Epoch 13/20\n",
      "1000/1000 [==============================] - 172s 172ms/step - loss: 0.1006 - acc: 0.9595 - val_loss: 0.1035 - val_acc: 0.9585\n",
      "Epoch 14/20\n",
      "1000/1000 [==============================] - 171s 171ms/step - loss: 0.1016 - acc: 0.9597 - val_loss: 0.1037 - val_acc: 0.9583\n",
      "Epoch 15/20\n",
      "1000/1000 [==============================] - 171s 171ms/step - loss: 0.0999 - acc: 0.9605 - val_loss: 0.1014 - val_acc: 0.9592\n",
      "Epoch 16/20\n",
      "1000/1000 [==============================] - 171s 171ms/step - loss: 0.0999 - acc: 0.9604 - val_loss: 0.1021 - val_acc: 0.9587\n",
      "Epoch 17/20\n",
      "1000/1000 [==============================] - 176s 176ms/step - loss: 0.0993 - acc: 0.9604 - val_loss: 0.1021 - val_acc: 0.9593\n",
      "Epoch 18/20\n",
      "1000/1000 [==============================] - 184s 184ms/step - loss: 0.0994 - acc: 0.9601 - val_loss: 0.1004 - val_acc: 0.9598\n",
      "Epoch 19/20\n",
      "1000/1000 [==============================] - 174s 174ms/step - loss: 0.0994 - acc: 0.9607 - val_loss: 0.1011 - val_acc: 0.9593\n",
      "Epoch 20/20\n",
      "1000/1000 [==============================] - 207s 207ms/step - loss: 0.0985 - acc: 0.9607 - val_loss: 0.1017 - val_acc: 0.9598\n"
     ]
    },
    {
     "data": {
      "text/plain": [
       "<keras.callbacks.History at 0x1a545c0908>"
      ]
     },
     "execution_count": 20,
     "metadata": {},
     "output_type": "execute_result"
    }
   ],
   "source": [
    "batch_size = 128\n",
    "mg = batch_gen(train_df, batch_size, emb, max_text_len)\n",
    "model.fit_generator(mg, epochs=20,\n",
    "                    steps_per_epoch=1000,\n",
    "                    validation_data=(val_X, val_y),\n",
    "                    verbose=True)"
   ]
  },
  {
   "cell_type": "markdown",
   "metadata": {
    "_uuid": "dc736b91a3c402d02c11c2bf23029e4f36a26805"
   },
   "source": [
    "#### 3.3 Plot Learning curves"
   ]
  },
  {
   "cell_type": "code",
   "execution_count": 21,
   "metadata": {
    "_uuid": "c70236435b8ae98da660e52124a5206270012648"
   },
   "outputs": [
    {
     "data": {
      "image/png": "[encoded data removed]",
      "text/plain": [
       "<matplotlib.figure.Figure at 0x1b41db8128>"
      ]
     },
     "metadata": {},
     "output_type": "display_data"
    }
   ],
   "source": [
    "plot_history(model.history)"
   ]
  },
  {
   "cell_type": "markdown",
   "metadata": {
    "_uuid": "dfc5613ec771d961937f2fd6c95f73470c6b39b5"
   },
   "source": [
    "## 4. Prediction and Submission"
   ]
  },
  {
   "cell_type": "markdown",
   "metadata": {
    "_uuid": "db8beb27e55b5a168a734a385e1087fe65eca925"
   },
   "source": [
    "#### 4.1 Search for an optimal classification threshold on validation set"
   ]
  },
  {
   "cell_type": "code",
   "execution_count": 22,
   "metadata": {
    "_uuid": "20767d884a3d642c8ec0347fc87bcfc14f3fcee4"
   },
   "outputs": [
    {
     "name": "stdout",
     "output_type": "stream",
     "text": [
      "F1 score at threshold 0.1 is 0.596\n",
      "F1 score at threshold 0.11 is 0.607\n",
      "F1 score at threshold 0.12 is 0.615\n",
      "F1 score at threshold 0.13 is 0.624\n",
      "F1 score at threshold 0.14 is 0.629\n",
      "F1 score at threshold 0.15 is 0.637\n",
      "F1 score at threshold 0.16 is 0.642\n",
      "F1 score at threshold 0.17 is 0.646\n",
      "F1 score at threshold 0.18 is 0.650\n",
      "F1 score at threshold 0.19 is 0.656\n",
      "F1 score at threshold 0.2 is 0.660\n",
      "F1 score at threshold 0.21 is 0.663\n",
      "F1 score at threshold 0.22 is 0.667\n",
      "F1 score at threshold 0.23 is 0.669\n",
      "F1 score at threshold 0.24 is 0.670\n",
      "F1 score at threshold 0.25 is 0.671\n",
      "F1 score at threshold 0.26 is 0.671\n",
      "F1 score at threshold 0.27 is 0.672\n",
      "F1 score at threshold 0.28 is 0.673\n",
      "F1 score at threshold 0.29 is 0.673\n",
      "F1 score at threshold 0.3 is 0.672\n",
      "F1 score at threshold 0.31 is 0.670\n",
      "F1 score at threshold 0.32 is 0.669\n",
      "F1 score at threshold 0.33 is 0.667\n",
      "F1 score at threshold 0.34 is 0.666\n",
      "F1 score at threshold 0.35 is 0.664\n",
      "F1 score at threshold 0.36 is 0.662\n",
      "F1 score at threshold 0.37 is 0.660\n",
      "F1 score at threshold 0.38 is 0.659\n",
      "F1 score at threshold 0.39 is 0.657\n",
      "F1 score at threshold 0.4 is 0.654\n",
      "F1 score at threshold 0.41 is 0.652\n",
      "F1 score at threshold 0.42 is 0.651\n",
      "F1 score at threshold 0.43 is 0.648\n",
      "F1 score at threshold 0.44 is 0.648\n",
      "F1 score at threshold 0.45 is 0.647\n",
      "F1 score at threshold 0.46 is 0.645\n",
      "F1 score at threshold 0.47 is 0.643\n",
      "F1 score at threshold 0.48 is 0.643\n",
      "F1 score at threshold 0.49 is 0.643\n",
      "F1 score at threshold 0.5 is 0.641\n",
      "Best classification threshold on validation set is 0.29, F1 is 0.673\n"
     ]
    }
   ],
   "source": [
    "from sklearn import metrics\n",
    "predicted_val_prob = model.predict(val_X).flatten()\n",
    " \n",
    "best_thr, best_f1 = 0., 0.    \n",
    "for clf_thr in np.arange(0.1, 0.501, 0.01):\n",
    "    clf_thr = np.round(clf_thr, 2)\n",
    "    predicted_val_bin = (np.array(predicted_val_prob) > clf_thr).astype(np.int)\n",
    "    f1_val = metrics.f1_score(val_y, predicted_val_bin)\n",
    "    if best_f1 <= f1_val:\n",
    "        best_f1, best_thr = f1_val, clf_thr\n",
    "    print('F1 score at threshold {} is {:1.3f}'.format(clf_thr, f1_val))\n",
    "print('Best classification threshold on validation set is {}, F1 is {:1.3f}'.format(best_thr, best_f1))"
   ]
  },
  {
   "cell_type": "markdown",
   "metadata": {
    "_uuid": "abf753aa614392ed10a9d2cd774f91d390f4e7c2"
   },
   "source": [
    "#### 4. 2 Prediction"
   ]
  },
  {
   "cell_type": "code",
   "execution_count": 23,
   "metadata": {
    "_uuid": "78baca992a796a7292ad4506970bd5b4a5c81bdf"
   },
   "outputs": [
    {
     "name": "stderr",
     "output_type": "stream",
     "text": [
      "441it [00:45,  9.63it/s]\n"
     ]
    }
   ],
   "source": [
    "# predict probabilities\n",
    "all_preds_prob = []\n",
    "batch_size_test = 256\n",
    "for x in tqdm(batch_gen_test(dl.test_df, emb, batch_size_test, max_text_len)):\n",
    "    all_preds_prob.extend(model.predict(x).flatten())\n",
    "    \n",
    "all_preds_prob_bin = (np.array(all_preds_prob) > best_thr).astype(np.int)"
   ]
  },
  {
   "cell_type": "markdown",
   "metadata": {
    "_uuid": "9dd45414ad1e4d9a35740dbd7eacb84d374470e3"
   },
   "source": [
    "#### 4. 3 Submission"
   ]
  },
  {
   "cell_type": "code",
   "execution_count": 24,
   "metadata": {
    "_uuid": "190741dae85bff398e1f099d81266cf6c05820a7"
   },
   "outputs": [],
   "source": [
    "submit_df = pd.DataFrame({\"qid\": dl.test_df[\"qid\"], \"prediction\": all_preds_prob_bin})\n",
    "submit_df.to_csv(\"submission.csv\", index=False)"
   ]
  },
  {
   "cell_type": "code",
   "execution_count": null,
   "metadata": {
    "_uuid": "bb819c55df35f94f86376e151494d3b97dda79e0"
   },
   "outputs": [],
   "source": []
  }
 ],
 "metadata": {
  "kernelspec": {
   "display_name": "Python 3",
   "language": "python",
   "name": "python3"
  },
  "language_info": {
   "codemirror_mode": {
    "name": "ipython",
    "version": 3
   },
   "file_extension": ".py",
   "mimetype": "text/x-python",
   "name": "python",
   "nbconvert_exporter": "python",
   "pygments_lexer": "ipython3",
   "version": "3.6.4"
  }
 },
 "nbformat": 4,
 "nbformat_minor": 1
}
