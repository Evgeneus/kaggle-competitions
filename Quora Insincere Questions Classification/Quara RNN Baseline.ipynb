{
 "cells": [
  {
   "cell_type": "markdown",
   "metadata": {},
   "source": [
    "# Quara RNN Baseline"
   ]
  },
  {
   "cell_type": "markdown",
   "metadata": {},
   "source": [
    "This kernel is based on:\n",
    "1. Kernel [\"LSTM is all you need! well, maybe embeddings also\"](https://www.kaggle.com/mihaskalic/lstm-is-all-you-need-well-maybe-embeddings-also)\n",
    "2. [Practical Text Classification With Python and Keras](https://mlwhiz.com/blog/2018/12/17/text_classification/)\n",
    "\n",
    "The kernel is organised as follows:\n",
    "1. Utils\n",
    "2. Setup and Data Preprocessing\n",
    "3. Neural Network\n",
    "4. Prediction and Submission"
   ]
  },
  {
   "cell_type": "code",
   "execution_count": null,
   "metadata": {},
   "outputs": [],
   "source": [
    "import numpy as np # linear algebra\n",
    "import pandas as pd # data processing, CSV file I/O (e.g. pd.read_csv)\n",
    "from tqdm import tqdm\n",
    "\n",
    "seed = 123"
   ]
  },
  {
   "cell_type": "markdown",
   "metadata": {},
   "source": [
    "## 1. Utils"
   ]
  },
  {
   "cell_type": "markdown",
   "metadata": {},
   "source": [
    "#### 1.1 Dataset Loader"
   ]
  },
  {
   "cell_type": "code",
   "execution_count": 2,
   "metadata": {},
   "outputs": [],
   "source": [
    "class DataLoader:\n",
    "    \n",
    "    def load(self, file_names):\n",
    "        self.train_df = pd.read_csv(file_names['train'])\n",
    "        self.test_df = pd.read_csv(file_names['test'])\n",
    "        print(\"Train shape : \", self.train_df.shape)\n",
    "        print(\"Test shape : \", self.test_df.shape)"
   ]
  },
  {
   "cell_type": "markdown",
   "metadata": {},
   "source": [
    "#### 1.2 Load embeddings & transform text to vectors"
   ]
  },
  {
   "cell_type": "code",
   "execution_count": 3,
   "metadata": {},
   "outputs": [],
   "source": [
    "class Embeddings:\n",
    "    \n",
    "    ## load embeddings\n",
    "    def load(self, embedding_file_name):\n",
    "        self.embeddings_index = {}\n",
    "        f = open(embedding_file_name)\n",
    "        for line in tqdm(f):\n",
    "            values = line.split(' ');\n",
    "            word = values[0]\n",
    "            coef = np.asarray(values[1:], dtype='float32')\n",
    "            self.embeddings_index[word] = coef\n",
    "        self.embed_len = len(coef) # length of embeddings\n",
    "        f.close()\n",
    "        \n",
    "    def text_to_vec(self, text, max_text_len=30):\n",
    "        empyt_emb = np.zeros(self.embed_len)\n",
    "        embeds = [self.embeddings_index.get(word, empyt_emb) for word in text]\n",
    "        embeds+= [empyt_emb] * (max_text_len - len(embeds))\n",
    "        \n",
    "        return np.array(embeds)\n",
    "    \n",
    "    def sequences_to_vec(self, text_sequences, max_text_len=30):\n",
    "        vectors = [self.text_to_vec(text[:max_text_len], max_text_len) for text in text_sequences]\n",
    "        \n",
    "        return np.array(vectors)"
   ]
  },
  {
   "cell_type": "markdown",
   "metadata": {},
   "source": [
    "#### 1.3 Batch Generators"
   ]
  },
  {
   "cell_type": "code",
   "execution_count": 4,
   "metadata": {},
   "outputs": [],
   "source": [
    "# generator for training NNet (used via fit_generator method in keras)\n",
    "def batch_gen(train_df, batch_size, emb, random_state=None):\n",
    "    import math\n",
    "    n_batches = math.ceil(len(train_df) / batch_size)\n",
    "    while True: \n",
    "        train_df = train_df.sample(frac=1., random_state=random_state)  # Shuffle the data.\n",
    "        for i in range(n_batches):\n",
    "            batch_df = train_df.iloc[i*batch_size:(i+1)*batch_size]\n",
    "            X_ = emb.sequences_to_vec( batch_df[\"question_text\"])\n",
    "            y_ = batch_df[\"target\"].values\n",
    "            yield X_, y_\n",
    "            \n",
    "# generater to do predication on test data\n",
    "def batch_gen_test(test_df, emb, batch_size_test=512, random_state=None):\n",
    "    import math\n",
    "    n_batches = math.ceil(len(test_df) / batch_size)\n",
    "    for i in range(n_batches):\n",
    "        batch_df = test_df.iloc[i*batch_size:(i+1)*batch_size]\n",
    "        X_ = emb.sequences_to_vec( batch_df[\"question_text\"])\n",
    "        yield X_"
   ]
  },
  {
   "cell_type": "markdown",
   "metadata": {},
   "source": [
    "#### 1.4 Visualisation script (Learning curves)"
   ]
  },
  {
   "cell_type": "code",
   "execution_count": 5,
   "metadata": {},
   "outputs": [],
   "source": [
    "import matplotlib.pyplot as plt\n",
    "plt.style.use('ggplot')\n",
    "\n",
    "def plot_history(history):\n",
    "    acc = history.history['acc']\n",
    "    val_acc = history.history['val_acc']\n",
    "    loss = history.history['loss']\n",
    "    val_loss = history.history['val_loss']\n",
    "    x = range(1, len(acc) + 1)\n",
    "\n",
    "    plt.figure(figsize=(12, 5))\n",
    "    plt.subplot(1, 2, 1)\n",
    "    plt.plot(x, acc, 'b', label='Training acc')\n",
    "    plt.plot(x, val_acc, 'r', label='Validation acc')\n",
    "    plt.xlabel('Epoch')\n",
    "    plt.ylabel('Accuracy')\n",
    "    plt.title('Training and validation accuracy')\n",
    "    plt.legend()\n",
    "    \n",
    "    plt.subplot(1, 2, 2)\n",
    "    plt.plot(x, loss, 'b', label='Training loss')\n",
    "    plt.plot(x, val_loss, 'r', label='Validation loss')\n",
    "    plt.xlabel('Epoch')\n",
    "    plt.ylabel('Loss')\n",
    "    plt.title('Training and validation loss')\n",
    "    plt.legend()"
   ]
  },
  {
   "cell_type": "markdown",
   "metadata": {},
   "source": [
    "## 2. Setup and Data Preprocessing"
   ]
  },
  {
   "cell_type": "markdown",
   "metadata": {},
   "source": [
    "#### 2.1 Load data"
   ]
  },
  {
   "cell_type": "code",
   "execution_count": 6,
   "metadata": {},
   "outputs": [
    {
     "name": "stdout",
     "output_type": "stream",
     "text": [
      "Train shape :  (1306122, 3)\n",
      "Test shape :  (56370, 2)\n"
     ]
    }
   ],
   "source": [
    "file_names = {'train': 'data/train.csv', 'test': 'data/test.csv'}\n",
    "\n",
    "dl = DataLoader()\n",
    "dl.load(file_names)"
   ]
  },
  {
   "cell_type": "markdown",
   "metadata": {},
   "source": [
    "#### 2.2  Load embeddings"
   ]
  },
  {
   "cell_type": "code",
   "execution_count": 7,
   "metadata": {},
   "outputs": [
    {
     "name": "stderr",
     "output_type": "stream",
     "text": [
      "2196017it [02:18, 15861.46it/s]"
     ]
    },
    {
     "name": "stdout",
     "output_type": "stream",
     "text": [
      "Embedding loaded\n"
     ]
    },
    {
     "name": "stderr",
     "output_type": "stream",
     "text": [
      "\n"
     ]
    }
   ],
   "source": [
    "embedding_file_name = 'data/embeddings/glove.840B.300d/glove.840B.300d.txt'\n",
    "emb = Embeddings()\n",
    "emb.load(embedding_file_name)\n",
    "print('Embedding loaded')"
   ]
  },
  {
   "cell_type": "markdown",
   "metadata": {},
   "source": [
    "#### 2.3 Prepare train/validation sets"
   ]
  },
  {
   "cell_type": "code",
   "execution_count": 8,
   "metadata": {},
   "outputs": [],
   "source": [
    "from sklearn.model_selection import train_test_split\n",
    "\n",
    "val_size = 0.1\n",
    "train_df, val_df, _, _ = train_test_split(dl.train_df, dl.train_df['target'], \n",
    "                                          test_size=val_size, \n",
    "                                          stratify=dl.train_df['target'],\n",
    "                                          shuffle=True, random_state=seed)\n",
    "val_X = emb.sequences_to_vec(val_df[\"question_text\"])\n",
    "val_y = val_df['target'].values"
   ]
  },
  {
   "cell_type": "markdown",
   "metadata": {},
   "source": [
    "## 3. Neural Network"
   ]
  },
  {
   "cell_type": "code",
   "execution_count": 9,
   "metadata": {},
   "outputs": [
    {
     "name": "stderr",
     "output_type": "stream",
     "text": [
      "/anaconda3/lib/python3.6/site-packages/h5py/__init__.py:36: FutureWarning: Conversion of the second argument of issubdtype from `float` to `np.floating` is deprecated. In future, it will be treated as `np.float64 == np.dtype(float).type`.\n",
      "  from ._conv import register_converters as _register_converters\n",
      "Using TensorFlow backend.\n"
     ]
    }
   ],
   "source": [
    "from keras.models import Sequential\n",
    "from keras.layers import LSTM, Dense, Bidirectional"
   ]
  },
  {
   "cell_type": "markdown",
   "metadata": {},
   "source": [
    "#### 3.1 Define NNet"
   ]
  },
  {
   "cell_type": "code",
   "execution_count": 10,
   "metadata": {},
   "outputs": [],
   "source": [
    "model = Sequential()\n",
    "model.add(Bidirectional(LSTM(64, return_sequences=True),\n",
    "                        input_shape=(30, 300)))\n",
    "model.add(Bidirectional(LSTM(64)))\n",
    "model.add(Dense(1, activation=\"sigmoid\"))\n",
    "model.compile(loss='binary_crossentropy', optimizer='adam', metrics=['accuracy'])"
   ]
  },
  {
   "cell_type": "markdown",
   "metadata": {},
   "source": [
    "#### 3.2 Train NNet"
   ]
  },
  {
   "cell_type": "code",
   "execution_count": 15,
   "metadata": {},
   "outputs": [
    {
     "name": "stdout",
     "output_type": "stream",
     "text": [
      "Epoch 1/20\n",
      "1000/1000 [==============================] - 193s 193ms/step - loss: 0.1929 - acc: 0.9382 - val_loss: 0.1799 - val_acc: 0.9410\n",
      "Epoch 2/20\n",
      "1000/1000 [==============================] - 184s 184ms/step - loss: 0.1762 - acc: 0.9423 - val_loss: 0.1736 - val_acc: 0.9424\n",
      "Epoch 3/20\n",
      "1000/1000 [==============================] - 172s 172ms/step - loss: 0.1701 - acc: 0.9427 - val_loss: 0.1665 - val_acc: 0.9436\n",
      "Epoch 4/20\n",
      "1000/1000 [==============================] - 175s 175ms/step - loss: 0.1624 - acc: 0.9449 - val_loss: 0.1635 - val_acc: 0.9435\n",
      "Epoch 5/20\n",
      "1000/1000 [==============================] - 174s 174ms/step - loss: 0.1634 - acc: 0.9443 - val_loss: 0.1609 - val_acc: 0.9449\n",
      "Epoch 6/20\n",
      "1000/1000 [==============================] - 174s 174ms/step - loss: 0.1597 - acc: 0.9453 - val_loss: 0.1585 - val_acc: 0.9452\n",
      "Epoch 7/20\n",
      "1000/1000 [==============================] - 174s 174ms/step - loss: 0.1575 - acc: 0.9462 - val_loss: 0.1565 - val_acc: 0.9459\n",
      "Epoch 8/20\n",
      "1000/1000 [==============================] - 175s 175ms/step - loss: 0.1556 - acc: 0.9461 - val_loss: 0.1557 - val_acc: 0.9455\n",
      "Epoch 9/20\n",
      "1000/1000 [==============================] - 179s 179ms/step - loss: 0.1572 - acc: 0.9455 - val_loss: 0.1551 - val_acc: 0.9458\n",
      "Epoch 10/20\n",
      "1000/1000 [==============================] - 177s 177ms/step - loss: 0.1516 - acc: 0.9475 - val_loss: 0.1537 - val_acc: 0.9459\n",
      "Epoch 11/20\n",
      "1000/1000 [==============================] - 169s 169ms/step - loss: 0.1519 - acc: 0.9468 - val_loss: 0.1528 - val_acc: 0.9466\n",
      "Epoch 12/20\n",
      "1000/1000 [==============================] - 171s 171ms/step - loss: 0.1534 - acc: 0.9461 - val_loss: 0.1530 - val_acc: 0.9465\n",
      "Epoch 13/20\n",
      "1000/1000 [==============================] - 179s 179ms/step - loss: 0.1493 - acc: 0.9474 - val_loss: 0.1516 - val_acc: 0.9466\n",
      "Epoch 14/20\n",
      "1000/1000 [==============================] - 181s 181ms/step - loss: 0.1516 - acc: 0.9467 - val_loss: 0.1528 - val_acc: 0.9456\n",
      "Epoch 15/20\n",
      "1000/1000 [==============================] - 186s 186ms/step - loss: 0.1522 - acc: 0.9472 - val_loss: 0.1499 - val_acc: 0.9470\n",
      "Epoch 16/20\n",
      "1000/1000 [==============================] - 189s 189ms/step - loss: 0.1511 - acc: 0.9464 - val_loss: 0.1506 - val_acc: 0.9468\n",
      "Epoch 17/20\n",
      "1000/1000 [==============================] - 184s 184ms/step - loss: 0.1497 - acc: 0.9471 - val_loss: 0.1495 - val_acc: 0.9470\n",
      "Epoch 18/20\n",
      "1000/1000 [==============================] - 178s 178ms/step - loss: 0.1469 - acc: 0.9489 - val_loss: 0.1490 - val_acc: 0.9470\n",
      "Epoch 19/20\n",
      "1000/1000 [==============================] - 183s 183ms/step - loss: 0.1463 - acc: 0.9481 - val_loss: 0.1488 - val_acc: 0.9469\n",
      "Epoch 20/20\n",
      "1000/1000 [==============================] - 180s 180ms/step - loss: 0.1460 - acc: 0.9482 - val_loss: 0.1484 - val_acc: 0.9473\n"
     ]
    },
    {
     "data": {
      "text/plain": [
       "<keras.callbacks.History at 0x1126a8668>"
      ]
     },
     "execution_count": 15,
     "metadata": {},
     "output_type": "execute_result"
    }
   ],
   "source": [
    "batch_size = 128\n",
    "mg = batch_gen(train_df, batch_size, emb, random_state=seed)\n",
    "model.fit_generator(mg, epochs=20,\n",
    "                    steps_per_epoch=1000,\n",
    "                    validation_data=(val_X, val_y),\n",
    "                    verbose=True)"
   ]
  },
  {
   "cell_type": "markdown",
   "metadata": {},
   "source": [
    "#### 3.3 Plot Learning curves"
   ]
  },
  {
   "cell_type": "code",
   "execution_count": 16,
   "metadata": {},
   "outputs": [
    {
     "data": {
      "image/png": "[encoded data removed]",
      "text/plain": [
       "<matplotlib.figure.Figure at 0x1a3fee0c88>"
      ]
     },
     "metadata": {},
     "output_type": "display_data"
    }
   ],
   "source": [
    "plot_history(model.history)"
   ]
  },
  {
   "cell_type": "markdown",
   "metadata": {},
   "source": [
    "## 4. Prediction and Submission"
   ]
  },
  {
   "cell_type": "markdown",
   "metadata": {},
   "source": [
    "#### 4. 1 Prediction"
   ]
  },
  {
   "cell_type": "code",
   "execution_count": 13,
   "metadata": {},
   "outputs": [
    {
     "name": "stderr",
     "output_type": "stream",
     "text": [
      "441it [00:29, 15.72it/s]\n"
     ]
    }
   ],
   "source": [
    "# predict probabilities\n",
    "all_preds_prob = []\n",
    "for x in tqdm(batch_gen_test(dl.test_df, emb)):\n",
    "    all_preds_prob.extend(model.predict(x).flatten())\n",
    "    \n",
    "all_preds_prob_bin = (np.array(all_preds_prob) > 0.5).astype(np.int)"
   ]
  },
  {
   "cell_type": "markdown",
   "metadata": {},
   "source": [
    "#### 4. 2 Submission"
   ]
  },
  {
   "cell_type": "code",
   "execution_count": 14,
   "metadata": {},
   "outputs": [],
   "source": [
    "submit_df = pd.DataFrame({\"qid\": dl.test_df[\"qid\"], \"prediction\": all_preds_prob_bin})\n",
    "submit_df.to_csv(\"submission.csv\", index=False)"
   ]
  },
  {
   "cell_type": "code",
   "execution_count": null,
   "metadata": {},
   "outputs": [],
   "source": []
  }
 ],
 "metadata": {
  "kernelspec": {
   "display_name": "Python 3",
   "language": "python",
   "name": "python3"
  },
  "language_info": {
   "codemirror_mode": {
    "name": "ipython",
    "version": 3
   },
   "file_extension": ".py",
   "mimetype": "text/x-python",
   "name": "python",
   "nbconvert_exporter": "python",
   "pygments_lexer": "ipython3",
   "version": "3.6.4"
  }
 },
 "nbformat": 4,
 "nbformat_minor": 2
}
